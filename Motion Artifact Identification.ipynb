{
 "cells": [
  {
   "cell_type": "code",
   "execution_count": 2,
   "id": "bd23f7e0",
   "metadata": {},
   "outputs": [],
   "source": [
    "import numpy as np\n",
    "from datascience import *\n",
    "import pandas as pd\n",
    "import matplotlib\n",
    "%matplotlib inline\n",
    "import matplotlib.pyplot as plt\n",
    "plt.style.use('fivethirtyeight')\n",
    "from sklearn import *\n",
    "from sklearn.model_selection import train_test_split\n"
   ]
  },
  {
   "cell_type": "code",
   "execution_count": 42,
   "id": "2d396d62",
   "metadata": {},
   "outputs": [
    {
     "data": {
      "text/html": [
       "<div>\n",
       "<style scoped>\n",
       "    .dataframe tbody tr th:only-of-type {\n",
       "        vertical-align: middle;\n",
       "    }\n",
       "\n",
       "    .dataframe tbody tr th {\n",
       "        vertical-align: top;\n",
       "    }\n",
       "\n",
       "    .dataframe thead th {\n",
       "        text-align: right;\n",
       "    }\n",
       "</style>\n",
       "<table border=\"1\" class=\"dataframe\">\n",
       "  <thead>\n",
       "    <tr style=\"text-align: right;\">\n",
       "      <th></th>\n",
       "      <th>1</th>\n",
       "      <th>2</th>\n",
       "      <th>3</th>\n",
       "      <th>4</th>\n",
       "      <th>5</th>\n",
       "      <th>6</th>\n",
       "      <th>Unnamed: 6</th>\n",
       "      <th>Unnamed: 7</th>\n",
       "    </tr>\n",
       "  </thead>\n",
       "  <tbody>\n",
       "    <tr>\n",
       "      <th>0</th>\n",
       "      <td>0</td>\n",
       "      <td>84.857025</td>\n",
       "      <td>48.528526</td>\n",
       "      <td>133.385651</td>\n",
       "      <td>36.328503</td>\n",
       "      <td>NaN</td>\n",
       "      <td>NaN</td>\n",
       "      <td>NaN</td>\n",
       "    </tr>\n",
       "    <tr>\n",
       "      <th>1</th>\n",
       "      <td>1</td>\n",
       "      <td>84.857025</td>\n",
       "      <td>48.528526</td>\n",
       "      <td>133.385651</td>\n",
       "      <td>36.328503</td>\n",
       "      <td>NaN</td>\n",
       "      <td>NaN</td>\n",
       "      <td>NaN</td>\n",
       "    </tr>\n",
       "    <tr>\n",
       "      <th>2</th>\n",
       "      <td>2</td>\n",
       "      <td>84.857025</td>\n",
       "      <td>48.528526</td>\n",
       "      <td>133.385651</td>\n",
       "      <td>36.328503</td>\n",
       "      <td>NaN</td>\n",
       "      <td>NaN</td>\n",
       "      <td>NaN</td>\n",
       "    </tr>\n",
       "    <tr>\n",
       "      <th>3</th>\n",
       "      <td>3</td>\n",
       "      <td>84.857025</td>\n",
       "      <td>48.528526</td>\n",
       "      <td>133.385651</td>\n",
       "      <td>36.328503</td>\n",
       "      <td>NaN</td>\n",
       "      <td>NaN</td>\n",
       "      <td>NaN</td>\n",
       "    </tr>\n",
       "    <tr>\n",
       "      <th>4</th>\n",
       "      <td>4</td>\n",
       "      <td>84.857025</td>\n",
       "      <td>48.528526</td>\n",
       "      <td>133.385651</td>\n",
       "      <td>36.328503</td>\n",
       "      <td>NaN</td>\n",
       "      <td>NaN</td>\n",
       "      <td>NaN</td>\n",
       "    </tr>\n",
       "    <tr>\n",
       "      <th>...</th>\n",
       "      <td>...</td>\n",
       "      <td>...</td>\n",
       "      <td>...</td>\n",
       "      <td>...</td>\n",
       "      <td>...</td>\n",
       "      <td>...</td>\n",
       "      <td>...</td>\n",
       "      <td>...</td>\n",
       "    </tr>\n",
       "    <tr>\n",
       "      <th>9635</th>\n",
       "      <td>9635</td>\n",
       "      <td>-6.380692</td>\n",
       "      <td>-0.235757</td>\n",
       "      <td>-6.616349</td>\n",
       "      <td>-6.144935</td>\n",
       "      <td>NaN</td>\n",
       "      <td>NaN</td>\n",
       "      <td>NaN</td>\n",
       "    </tr>\n",
       "    <tr>\n",
       "      <th>9636</th>\n",
       "      <td>9636</td>\n",
       "      <td>-6.447954</td>\n",
       "      <td>-0.247565</td>\n",
       "      <td>-6.695420</td>\n",
       "      <td>-6.200389</td>\n",
       "      <td>NaN</td>\n",
       "      <td>NaN</td>\n",
       "      <td>NaN</td>\n",
       "    </tr>\n",
       "    <tr>\n",
       "      <th>9637</th>\n",
       "      <td>9637</td>\n",
       "      <td>-6.463326</td>\n",
       "      <td>-0.256364</td>\n",
       "      <td>-6.719590</td>\n",
       "      <td>-6.206963</td>\n",
       "      <td>NaN</td>\n",
       "      <td>NaN</td>\n",
       "      <td>NaN</td>\n",
       "    </tr>\n",
       "    <tr>\n",
       "      <th>9638</th>\n",
       "      <td>9638</td>\n",
       "      <td>-6.520991</td>\n",
       "      <td>-0.235990</td>\n",
       "      <td>-6.756881</td>\n",
       "      <td>-6.285002</td>\n",
       "      <td>NaN</td>\n",
       "      <td>NaN</td>\n",
       "      <td>NaN</td>\n",
       "    </tr>\n",
       "    <tr>\n",
       "      <th>9639</th>\n",
       "      <td>9639</td>\n",
       "      <td>-6.558465</td>\n",
       "      <td>-0.244093</td>\n",
       "      <td>-6.802459</td>\n",
       "      <td>-6.314372</td>\n",
       "      <td>NaN</td>\n",
       "      <td>NaN</td>\n",
       "      <td>NaN</td>\n",
       "    </tr>\n",
       "  </tbody>\n",
       "</table>\n",
       "<p>9640 rows × 8 columns</p>\n",
       "</div>"
      ],
      "text/plain": [
       "         1          2          3           4          5    6 Unnamed: 6  \\\n",
       "0        0  84.857025  48.528526  133.385651  36.328503  NaN        NaN   \n",
       "1        1  84.857025  48.528526  133.385651  36.328503  NaN        NaN   \n",
       "2        2  84.857025  48.528526  133.385651  36.328503  NaN        NaN   \n",
       "3        3  84.857025  48.528526  133.385651  36.328503  NaN        NaN   \n",
       "4        4  84.857025  48.528526  133.385651  36.328503  NaN        NaN   \n",
       "...    ...        ...        ...         ...        ...  ...        ...   \n",
       "9635  9635  -6.380692  -0.235757   -6.616349  -6.144935  NaN        NaN   \n",
       "9636  9636  -6.447954  -0.247565   -6.695420  -6.200389  NaN        NaN   \n",
       "9637  9637  -6.463326  -0.256364   -6.719590  -6.206963  NaN        NaN   \n",
       "9638  9638  -6.520991  -0.235990   -6.756881  -6.285002  NaN        NaN   \n",
       "9639  9639  -6.558465  -0.244093   -6.802459  -6.314372  NaN        NaN   \n",
       "\n",
       "     Unnamed: 7  \n",
       "0           NaN  \n",
       "1           NaN  \n",
       "2           NaN  \n",
       "3           NaN  \n",
       "4           NaN  \n",
       "...         ...  \n",
       "9635        NaN  \n",
       "9636        NaN  \n",
       "9637        NaN  \n",
       "9638        NaN  \n",
       "9639        NaN  \n",
       "\n",
       "[9640 rows x 8 columns]"
      ]
     },
     "execution_count": 42,
     "metadata": {},
     "output_type": "execute_result"
    }
   ],
   "source": [
    "Trial1Con = pd.read_csv(\"Trial1Con.csv\")\n",
    "Trial2Con = pd.read_csv(\"Trial2Con.csv\")\n",
    "Trial3Con = pd.read_csv(\"Trial3Con.csv\")\n",
    "\n",
    "Trial1Ox = pd.read_csv(\"trial1ox.csv\")\n",
    "Trial2Ox = pd.read_csv(\"trial2ox.csv\")\n",
    "Trial3Ox = pd.read_csv(\"trial3ox.csv\")\n",
    "Trial1Ox"
   ]
  },
  {
   "cell_type": "code",
   "execution_count": 43,
   "id": "3aa4ae64",
   "metadata": {},
   "outputs": [
    {
     "data": {
      "text/plain": [
       "[<matplotlib.lines.Line2D at 0x2472d9640a0>,\n",
       " <matplotlib.lines.Line2D at 0x2472d9640d0>,\n",
       " <matplotlib.lines.Line2D at 0x2473abc2130>]"
      ]
     },
     "execution_count": 43,
     "metadata": {},
     "output_type": "execute_result"
    },
    {
     "data": {
      "image/png": "[encoded data removed]",
      "text/plain": [
       "<Figure size 432x288 with 1 Axes>"
      ]
     },
     "metadata": {},
     "output_type": "display_data"
    }
   ],
   "source": [
    "Trial1Ox\n",
    "plt.plot(Trial1Ox['1'], Trial1Ox['2'], Trial1Ox['3'], Trial1Ox['4'], Trial1Ox['5'])\n",
    "\n"
   ]
  },
  {
   "cell_type": "code",
   "execution_count": 46,
   "id": "9bc6b265",
   "metadata": {},
   "outputs": [
    {
     "data": {
      "text/plain": [
       "[<matplotlib.lines.Line2D at 0x2473c51f0a0>,\n",
       " <matplotlib.lines.Line2D at 0x2473c51f1f0>,\n",
       " <matplotlib.lines.Line2D at 0x2473c51f070>]"
      ]
     },
     "execution_count": 46,
     "metadata": {},
     "output_type": "execute_result"
    },
    {
     "data": {
      "image/png": "[encoded data removed]",
      "text/plain": [
       "<Figure size 432x288 with 1 Axes>"
      ]
     },
     "metadata": {},
     "output_type": "display_data"
    }
   ],
   "source": [
    "Trial2Ox\n",
    "plt.plot(Trial2Ox['1'], Trial2Ox['2'], Trial2Ox['3'], Trial2Ox['4'], Trial2Ox['5'])\n",
    "\n"
   ]
  },
  {
   "cell_type": "code",
   "execution_count": 45,
   "id": "e3be3f1c",
   "metadata": {},
   "outputs": [
    {
     "data": {
      "text/plain": [
       "[<matplotlib.lines.Line2D at 0x24735d59be0>,\n",
       " <matplotlib.lines.Line2D at 0x24735d59d30>,\n",
       " <matplotlib.lines.Line2D at 0x24735d59bb0>]"
      ]
     },
     "execution_count": 45,
     "metadata": {},
     "output_type": "execute_result"
    },
    {
     "data": {
      "image/png": "[encoded data removed]",
      "text/plain": [
       "<Figure size 432x288 with 1 Axes>"
      ]
     },
     "metadata": {},
     "output_type": "display_data"
    }
   ],
   "source": [
    "Trial3Ox\n",
    "plt.plot(Trial3Ox['1'], Trial3Ox['2'], Trial3Ox['3'], Trial3Ox['4'], Trial3Ox['5'])\n"
   ]
  },
  {
   "cell_type": "code",
   "execution_count": null,
   "id": "d5521493",
   "metadata": {},
   "outputs": [],
   "source": []
  }
 ],
 "metadata": {
  "kernelspec": {
   "display_name": "Python 3 (ipykernel)",
   "language": "python",
   "name": "python3"
  },
  "language_info": {
   "codemirror_mode": {
    "name": "ipython",
    "version": 3
   },
   "file_extension": ".py",
   "mimetype": "text/x-python",
   "name": "python",
   "nbconvert_exporter": "python",
   "pygments_lexer": "ipython3",
   "version": "3.9.12"
  }
 },
 "nbformat": 4,
 "nbformat_minor": 5
}
