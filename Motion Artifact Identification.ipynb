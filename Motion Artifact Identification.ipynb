{
 "cells": [
  {
   "cell_type": "code",
   "execution_count": 3,
   "id": "19b71842",
   "metadata": {},
   "outputs": [],
   "source": [
    "import numpy as np\n",
    "from datascience import *\n",
    "import pandas as pd\n",
    "import matplotlib\n",
    "%matplotlib inline\n",
    "import matplotlib.pyplot as plt\n",
    "plt.style.use('fivethirtyeight')\n",
    "from sklearn import *\n",
    "from sklearn.model_selection import train_test_split\n"
   ]
  },
  {
   "cell_type": "code",
   "execution_count": 4,
   "id": "99ba97a6",
   "metadata": {},
   "outputs": [],
   "source": [
    "Trial1Con = pd.read_csv(\"Trial1Con.csv\")\n",
    "Trial2Con = pd.read_csv(\"Trial2Con.csv\")\n",
    "Trial3Con = pd.read_csv(\"Trial3Con.csv\")\n",
    "\n",
    "Trial1Ox = pd.read_csv(\"trial1ox.csv\")\n",
    "Trial2Ox = pd.read_csv(\"trial2ox.csv\")\n",
    "Trial3Ox = pd.read_csv(\"trial3ox.csv\")"
   ]
  },
  {
   "cell_type": "code",
   "execution_count": 6,
   "id": "ead6ae53",
   "metadata": {},
   "outputs": [],
   "source": [
    "#work in progress\n"
   ]
  },
  {
   "cell_type": "code",
   "execution_count": null,
   "id": "6bd82e2f",
   "metadata": {},
   "outputs": [],
   "source": []
  }
 ],
 "metadata": {
  "kernelspec": {
   "display_name": "Python 3 (ipykernel)",
   "language": "python",
   "name": "python3"
  },
  "language_info": {
   "codemirror_mode": {
    "name": "ipython",
    "version": 3
   },
   "file_extension": ".py",
   "mimetype": "text/x-python",
   "name": "python",
   "nbconvert_exporter": "python",
   "pygments_lexer": "ipython3",
   "version": "3.9.12"
  }
 },
 "nbformat": 4,
 "nbformat_minor": 5
}
